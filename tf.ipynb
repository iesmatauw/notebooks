{
  "nbformat": 4,
  "nbformat_minor": 0,
  "metadata": {
    "colab": {
      "name": "yolo.ipynb",
      "version": "0.3.2",
      "provenance": [],
      "collapsed_sections": [],
      "include_colab_link": true
    },
    "kernelspec": {
      "name": "python3",
      "display_name": "Python 3"
    },
    "accelerator": "GPU"
  },
  "cells": [
    {
      "cell_type": "markdown",
      "metadata": {
        "id": "view-in-github",
        "colab_type": "text"
      },
      "source": [
        "[View in Colaboratory](https://colab.research.google.com/github/iesmatauw/notebooks/blob/master/tf.ipynb)"
      ]
    },
    {
      "metadata": {
        "id": "aF5vTCRDPTYg",
        "colab_type": "code",
        "colab": {
          "base_uri": "https://localhost:8080/",
          "height": 34
        },
        "outputId": "8da9a0bd-2e0e-456e-e324-ee9db92a4583"
      },
      "cell_type": "code",
      "source": [
        "#by charles iesmatauw, 20181110\n",
        "#import tensorflow, test apakah gpu terdeteksi\n",
        "\n",
        "import tensorflow as tf\n",
        "\n",
        "device_name = tf.test.gpu_device_name()\n",
        "if device_name != '/device:GPU:0':\n",
        "  raise SystemError('GPU device not found')\n",
        "print('Found GPU at: {}'.format(device_name))"
      ],
      "execution_count": 1,
      "outputs": [
        {
          "output_type": "stream",
          "text": [
            "Found GPU at: /device:GPU:0\n"
          ],
          "name": "stdout"
        }
      ]
    },
    {
      "metadata": {
        "id": "S6Ib0ZNmQ64u",
        "colab_type": "code",
        "colab": {
          "base_uri": "https://localhost:8080/",
          "height": 3063
        },
        "outputId": "1ebd814a-0414-46cb-f1ab-be72ad9181b5"
      },
      "cell_type": "code",
      "source": [
        "#install prequisite (vm google collab hanya bertahan 12 jam)\n",
        "!apt-get install protobuf-compiler python-pil python-lxml python-tk\n",
        "print('---protobuf, pil, lxml, tk installed---')\n",
        "\n",
        "!pip install Cython\n",
        "print('---cython Installed---')\n",
        "\n",
        "!pip install jupyter\n",
        "print('---jupyter Installed---')\n",
        "\n",
        "!pip install matplotlib\n",
        "print('---matplotlib installed---')"
      ],
      "execution_count": 7,
      "outputs": [
        {
          "output_type": "stream",
          "text": [
            "\rReading package lists... 0%\r\rReading package lists... 0%\r\rReading package lists... 1%\r\rReading package lists... 11%\r\rReading package lists... 11%\r\rReading package lists... 11%\r\rReading package lists... 11%\r\rReading package lists... 91%\r\rReading package lists... 91%\r\rReading package lists... 92%\r\rReading package lists... 92%\r\rReading package lists... 95%\r\rReading package lists... 95%\r\rReading package lists... 95%\r\rReading package lists... 95%\r\rReading package lists... 96%\r\rReading package lists... 96%\r\rReading package lists... 96%\r\rReading package lists... 96%\r\rReading package lists... 96%\r\rReading package lists... 96%\r\rReading package lists... 96%\r\rReading package lists... 96%\r\rReading package lists... 98%\r\rReading package lists... 98%\r\rReading package lists... 98%\r\rReading package lists... 98%\r\rReading package lists... 99%\r\rReading package lists... 99%\r\rReading package lists... 99%\r\rReading package lists... 99%\r\rReading package lists... Done\r\n",
            "\rBuilding dependency tree... 0%\r\rBuilding dependency tree... 0%\r\rBuilding dependency tree... 0%\r\rBuilding dependency tree... 50%\r\rBuilding dependency tree... 50%\r\rBuilding dependency tree       \r\n",
            "\rReading state information... 0%\r\rReading state information... 0%\r\rReading state information... Done\r\n",
            "python-tk is already the newest version (2.7.14-1).\n",
            "The following additional packages will be installed:\n",
            "  libjbig0 liblcms2-2 libprotobuf10 libprotoc10 libtiff5 libwebp6 libwebpmux3\n",
            "  libxslt1.1 python-bs4 python-chardet python-html5lib python-olefile\n",
            "  python-pkg-resources python-six python-webencodings\n",
            "Suggested packages:\n",
            "  liblcms2-utils python-genshi python-lxml-dbg python-lxml-doc python-pil-doc\n",
            "  python-pil-dbg python-setuptools\n",
            "The following NEW packages will be installed:\n",
            "  libjbig0 liblcms2-2 libprotobuf10 libprotoc10 libtiff5 libwebp6 libwebpmux3\n",
            "  libxslt1.1 protobuf-compiler python-bs4 python-chardet python-html5lib\n",
            "  python-lxml python-olefile python-pil python-pkg-resources python-six\n",
            "  python-webencodings\n",
            "0 upgraded, 18 newly installed, 0 to remove and 0 not upgraded.\n",
            "Need to get 3,751 kB of archives.\n",
            "After this operation, 14.6 MB of additional disk space will be used.\n",
            "Get:1 http://archive.ubuntu.com/ubuntu artful/main amd64 libjbig0 amd64 2.1-3.1 [26.6 kB]\n",
            "Get:2 http://archive.ubuntu.com/ubuntu artful/main amd64 liblcms2-2 amd64 2.7-1ubuntu1 [137 kB]\n",
            "Get:3 http://archive.ubuntu.com/ubuntu artful/main amd64 libprotobuf10 amd64 3.0.0-9ubuntu5 [650 kB]\n",
            "Get:4 http://archive.ubuntu.com/ubuntu artful/main amd64 libprotoc10 amd64 3.0.0-9ubuntu5 [565 kB]\n",
            "Get:5 http://archive.ubuntu.com/ubuntu artful-updates/main amd64 libtiff5 amd64 4.0.8-5ubuntu0.1 [150 kB]\n",
            "Get:6 http://archive.ubuntu.com/ubuntu artful/main amd64 libwebp6 amd64 0.6.0-3 [181 kB]\n",
            "Get:7 http://archive.ubuntu.com/ubuntu artful/main amd64 libwebpmux3 amd64 0.6.0-3 [20.0 kB]\n",
            "Get:8 http://archive.ubuntu.com/ubuntu artful/main amd64 libxslt1.1 amd64 1.1.29-2.1ubuntu1 [149 kB]\n",
            "Get:9 http://archive.ubuntu.com/ubuntu artful/main amd64 python-bs4 all 4.6.0-1 [67.9 kB]\n",
            "Get:10 http://archive.ubuntu.com/ubuntu artful/main amd64 python-pkg-resources all 36.2.7-2 [128 kB]\n",
            "Get:11 http://archive.ubuntu.com/ubuntu artful/main amd64 python-chardet all 3.0.4-1 [80.3 kB]\n",
            "Get:12 http://archive.ubuntu.com/ubuntu artful/main amd64 python-six all 1.10.0-4 [10.8 kB]\n",
            "Get:13 http://archive.ubuntu.com/ubuntu artful/main amd64 python-webencodings all 0.5-2 [10.3 kB]\n",
            "Get:14 http://archive.ubuntu.com/ubuntu artful/main amd64 python-html5lib all 0.999999999-1 [83.6 kB]\n",
            "Get:15 http://archive.ubuntu.com/ubuntu artful/main amd64 python-lxml amd64 4.0.0-1 [1,120 kB]\n",
            "Get:16 http://archive.ubuntu.com/ubuntu artful/main amd64 python-olefile all 0.44-1 [36.2 kB]\n",
            "Get:17 http://archive.ubuntu.com/ubuntu artful/main amd64 python-pil amd64 4.1.1-3build2 [311 kB]\n",
            "Get:18 http://archive.ubuntu.com/ubuntu artful/main amd64 protobuf-compiler amd64 3.0.0-9ubuntu5 [24.5 kB]\n",
            "Fetched 3,751 kB in 0s (21.5 MB/s)\n",
            "Selecting previously unselected package libjbig0:amd64.\n",
            "(Reading database ... 18408 files and directories currently installed.)\n",
            "Preparing to unpack .../00-libjbig0_2.1-3.1_amd64.deb ...\n",
            "Unpacking libjbig0:amd64 (2.1-3.1) ...\n",
            "Selecting previously unselected package liblcms2-2:amd64.\n",
            "Preparing to unpack .../01-liblcms2-2_2.7-1ubuntu1_amd64.deb ...\n",
            "Unpacking liblcms2-2:amd64 (2.7-1ubuntu1) ...\n",
            "Selecting previously unselected package libprotobuf10:amd64.\n",
            "Preparing to unpack .../02-libprotobuf10_3.0.0-9ubuntu5_amd64.deb ...\n",
            "Unpacking libprotobuf10:amd64 (3.0.0-9ubuntu5) ...\n",
            "Selecting previously unselected package libprotoc10:amd64.\n",
            "Preparing to unpack .../03-libprotoc10_3.0.0-9ubuntu5_amd64.deb ...\n",
            "Unpacking libprotoc10:amd64 (3.0.0-9ubuntu5) ...\n",
            "Selecting previously unselected package libtiff5:amd64.\n",
            "Preparing to unpack .../04-libtiff5_4.0.8-5ubuntu0.1_amd64.deb ...\n",
            "Unpacking libtiff5:amd64 (4.0.8-5ubuntu0.1) ...\n",
            "Selecting previously unselected package libwebp6:amd64.\n",
            "Preparing to unpack .../05-libwebp6_0.6.0-3_amd64.deb ...\n",
            "Unpacking libwebp6:amd64 (0.6.0-3) ...\n",
            "Selecting previously unselected package libwebpmux3:amd64.\n",
            "Preparing to unpack .../06-libwebpmux3_0.6.0-3_amd64.deb ...\n",
            "Unpacking libwebpmux3:amd64 (0.6.0-3) ...\n",
            "Selecting previously unselected package libxslt1.1:amd64.\n",
            "Preparing to unpack .../07-libxslt1.1_1.1.29-2.1ubuntu1_amd64.deb ...\n",
            "Unpacking libxslt1.1:amd64 (1.1.29-2.1ubuntu1) ...\n",
            "Selecting previously unselected package python-bs4.\n",
            "Preparing to unpack .../08-python-bs4_4.6.0-1_all.deb ...\n",
            "Unpacking python-bs4 (4.6.0-1) ...\n",
            "Selecting previously unselected package python-pkg-resources.\n",
            "Preparing to unpack .../09-python-pkg-resources_36.2.7-2_all.deb ...\n",
            "Unpacking python-pkg-resources (36.2.7-2) ...\n",
            "Selecting previously unselected package python-chardet.\n",
            "Preparing to unpack .../10-python-chardet_3.0.4-1_all.deb ...\n",
            "Unpacking python-chardet (3.0.4-1) ...\n",
            "Selecting previously unselected package python-six.\n",
            "Preparing to unpack .../11-python-six_1.10.0-4_all.deb ...\n",
            "Unpacking python-six (1.10.0-4) ...\n",
            "Selecting previously unselected package python-webencodings.\n",
            "Preparing to unpack .../12-python-webencodings_0.5-2_all.deb ...\n",
            "Unpacking python-webencodings (0.5-2) ...\n",
            "Selecting previously unselected package python-html5lib.\n",
            "Preparing to unpack .../13-python-html5lib_0.999999999-1_all.deb ...\n",
            "Unpacking python-html5lib (0.999999999-1) ...\n",
            "Selecting previously unselected package python-lxml.\n",
            "Preparing to unpack .../14-python-lxml_4.0.0-1_amd64.deb ...\n",
            "Unpacking python-lxml (4.0.0-1) ...\n",
            "Selecting previously unselected package python-olefile.\n",
            "Preparing to unpack .../15-python-olefile_0.44-1_all.deb ...\n",
            "Unpacking python-olefile (0.44-1) ...\n",
            "Selecting previously unselected package python-pil:amd64.\n",
            "Preparing to unpack .../16-python-pil_4.1.1-3build2_amd64.deb ...\n",
            "Unpacking python-pil:amd64 (4.1.1-3build2) ...\n",
            "Selecting previously unselected package protobuf-compiler.\n",
            "Preparing to unpack .../17-protobuf-compiler_3.0.0-9ubuntu5_amd64.deb ...\n",
            "Unpacking protobuf-compiler (3.0.0-9ubuntu5) ...\n",
            "Setting up liblcms2-2:amd64 (2.7-1ubuntu1) ...\n",
            "Setting up libjbig0:amd64 (2.1-3.1) ...\n",
            "Setting up libtiff5:amd64 (4.0.8-5ubuntu0.1) ...\n",
            "Setting up python-pkg-resources (36.2.7-2) ...\n",
            "Setting up libxslt1.1:amd64 (1.1.29-2.1ubuntu1) ...\n",
            "Setting up libprotobuf10:amd64 (3.0.0-9ubuntu5) ...\n",
            "Setting up python-six (1.10.0-4) ...\n",
            "Processing triggers for libc-bin (2.26-0ubuntu2.1) ...\n",
            "Setting up python-bs4 (4.6.0-1) ...\n",
            "Setting up python-lxml (4.0.0-1) ...\n",
            "Setting up python-olefile (0.44-1) ...\n",
            "Setting up libprotoc10:amd64 (3.0.0-9ubuntu5) ...\n",
            "Setting up python-webencodings (0.5-2) ...\n",
            "Setting up libwebp6:amd64 (0.6.0-3) ...\n",
            "Setting up python-chardet (3.0.4-1) ...\n",
            "Setting up protobuf-compiler (3.0.0-9ubuntu5) ...\n",
            "Setting up libwebpmux3:amd64 (0.6.0-3) ...\n",
            "Setting up python-html5lib (0.999999999-1) ...\n",
            "Setting up python-pil:amd64 (4.1.1-3build2) ...\n",
            "Processing triggers for libc-bin (2.26-0ubuntu2.1) ...\n",
            "---protobuf, pil, lxml, tk installed---\n",
            "Collecting Cython\n",
            "\u001b[?25l  Downloading https://files.pythonhosted.org/packages/19/8e/32b280abb0947a96cdbb8329fb2014851a21fc1d099009f946ea8a8202c3/Cython-0.28.5-cp36-cp36m-manylinux1_x86_64.whl (3.4MB)\n",
            "\u001b[K    100% |████████████████████████████████| 3.4MB 1.0MB/s \n",
            "\u001b[?25hInstalling collected packages: Cython\n",
            "Successfully installed Cython-0.28.5\n",
            "---cython Installed---\n",
            "Collecting jupyter\n",
            "  Downloading https://files.pythonhosted.org/packages/83/df/0f5dd132200728a86190397e1ea87cd76244e42d39ec5e88efd25b2abd7e/jupyter-1.0.0-py2.py3-none-any.whl\n",
            "Requirement already satisfied: ipykernel in /usr/local/lib/python3.6/dist-packages (from jupyter) (4.6.1)\n",
            "Collecting ipywidgets (from jupyter)\n",
            "\u001b[?25l  Downloading https://files.pythonhosted.org/packages/ea/c5/0482342559f0fd24909572fe00bb59b2bae98b22d90aac7950f51a98f555/ipywidgets-7.4.1-py2.py3-none-any.whl (110kB)\n",
            "\u001b[K    100% |████████████████████████████████| 112kB 6.5MB/s \n",
            "\u001b[?25hRequirement already satisfied: nbconvert in /usr/local/lib/python3.6/dist-packages (from jupyter) (5.4.0)\n",
            "Requirement already satisfied: notebook in /usr/local/lib/python3.6/dist-packages (from jupyter) (5.2.2)\n",
            "Collecting qtconsole (from jupyter)\n",
            "\u001b[?25l  Downloading https://files.pythonhosted.org/packages/ff/1f/b340d52dee46fbbe8a097dce76d1197258bb599692159d94c80921fef9eb/qtconsole-4.4.1-py2.py3-none-any.whl (112kB)\n",
            "\u001b[K    100% |████████████████████████████████| 112kB 15.1MB/s \n",
            "\u001b[?25hCollecting jupyter-console (from jupyter)\n",
            "  Downloading https://files.pythonhosted.org/packages/77/82/6469cd7fccf7958cbe5dce2e623f1e3c5e27f1bb1ad36d90519bc2d5d370/jupyter_console-5.2.0-py2.py3-none-any.whl\n",
            "Requirement already satisfied: traitlets>=4.1.0 in /usr/local/lib/python3.6/dist-packages (from ipykernel->jupyter) (4.3.2)\n",
            "Requirement already satisfied: ipython>=4.0.0 in /usr/local/lib/python3.6/dist-packages (from ipykernel->jupyter) (5.5.0)\n",
            "Requirement already satisfied: tornado>=4.0 in /usr/local/lib/python3.6/dist-packages (from ipykernel->jupyter) (4.5.3)\n",
            "Requirement already satisfied: jupyter-client in /usr/local/lib/python3.6/dist-packages (from ipykernel->jupyter) (5.2.3)\n",
            "Requirement already satisfied: nbformat>=4.2.0 in /usr/local/lib/python3.6/dist-packages (from ipywidgets->jupyter) (4.4.0)\n",
            "Collecting widgetsnbextension~=3.4.0 (from ipywidgets->jupyter)\n",
            "\u001b[?25l  Downloading https://files.pythonhosted.org/packages/3c/9a/9a690e18e335fc4470a2fa38163774940159375798ba6cce043d5cd94bae/widgetsnbextension-3.4.1-py2.py3-none-any.whl (2.2MB)\n",
            "\u001b[K    100% |████████████████████████████████| 2.2MB 1.3MB/s \n",
            "\u001b[?25hRequirement already satisfied: mistune>=0.8.1 in /usr/local/lib/python3.6/dist-packages (from nbconvert->jupyter) (0.8.3)\n",
            "Requirement already satisfied: testpath in /usr/local/lib/python3.6/dist-packages (from nbconvert->jupyter) (0.3.1)\n",
            "Requirement already satisfied: entrypoints>=0.2.2 in /usr/local/lib/python3.6/dist-packages (from nbconvert->jupyter) (0.2.3)\n",
            "Requirement already satisfied: bleach in /usr/local/lib/python3.6/dist-packages (from nbconvert->jupyter) (2.1.4)\n",
            "Requirement already satisfied: pandocfilters>=1.4.1 in /usr/local/lib/python3.6/dist-packages (from nbconvert->jupyter) (1.4.2)\n",
            "Requirement already satisfied: jupyter-core in /usr/local/lib/python3.6/dist-packages (from nbconvert->jupyter) (4.4.0)\n",
            "Requirement already satisfied: pygments in /usr/local/lib/python3.6/dist-packages (from nbconvert->jupyter) (2.1.3)\n",
            "Requirement already satisfied: jinja2 in /usr/local/lib/python3.6/dist-packages (from nbconvert->jupyter) (2.10)\n",
            "Requirement already satisfied: defusedxml in /usr/local/lib/python3.6/dist-packages (from nbconvert->jupyter) (0.5.0)\n",
            "Requirement already satisfied: ipython-genutils in /usr/local/lib/python3.6/dist-packages (from notebook->jupyter) (0.2.0)\n",
            "Requirement already satisfied: terminado>=0.3.3; sys_platform != \"win32\" in /usr/local/lib/python3.6/dist-packages (from notebook->jupyter) (0.8.1)\n",
            "Requirement already satisfied: prompt-toolkit<2.0.0,>=1.0.0 in /usr/local/lib/python3.6/dist-packages (from jupyter-console->jupyter) (1.0.15)\n",
            "Requirement already satisfied: decorator in /usr/local/lib/python3.6/dist-packages (from traitlets>=4.1.0->ipykernel->jupyter) (4.3.0)\n",
            "Requirement already satisfied: six in /usr/local/lib/python3.6/dist-packages (from traitlets>=4.1.0->ipykernel->jupyter) (1.11.0)\n",
            "Requirement already satisfied: simplegeneric>0.8 in /usr/local/lib/python3.6/dist-packages (from ipython>=4.0.0->ipykernel->jupyter) (0.8.1)\n",
            "Requirement already satisfied: pexpect; sys_platform != \"win32\" in /usr/local/lib/python3.6/dist-packages (from ipython>=4.0.0->ipykernel->jupyter) (4.6.0)\n",
            "Requirement already satisfied: pickleshare in /usr/local/lib/python3.6/dist-packages (from ipython>=4.0.0->ipykernel->jupyter) (0.7.4)\n",
            "Requirement already satisfied: setuptools>=18.5 in /usr/local/lib/python3.6/dist-packages (from ipython>=4.0.0->ipykernel->jupyter) (39.1.0)\n",
            "Requirement already satisfied: python-dateutil>=2.1 in /usr/local/lib/python3.6/dist-packages (from jupyter-client->ipykernel->jupyter) (2.5.3)\n",
            "Requirement already satisfied: pyzmq>=13 in /usr/local/lib/python3.6/dist-packages (from jupyter-client->ipykernel->jupyter) (16.0.4)\n",
            "Requirement already satisfied: jsonschema!=2.5.0,>=2.4 in /usr/local/lib/python3.6/dist-packages (from nbformat>=4.2.0->ipywidgets->jupyter) (2.6.0)\n",
            "Requirement already satisfied: html5lib!=1.0b1,!=1.0b2,!=1.0b3,!=1.0b4,!=1.0b5,!=1.0b6,!=1.0b7,!=1.0b8,>=0.99999999pre in /usr/local/lib/python3.6/dist-packages (from bleach->nbconvert->jupyter) (1.0.1)\n",
            "Requirement already satisfied: MarkupSafe>=0.23 in /usr/local/lib/python3.6/dist-packages (from jinja2->nbconvert->jupyter) (1.0)\n",
            "Requirement already satisfied: ptyprocess; os_name != \"nt\" in /usr/local/lib/python3.6/dist-packages (from terminado>=0.3.3; sys_platform != \"win32\"->notebook->jupyter) (0.6.0)\n",
            "Requirement already satisfied: wcwidth in /usr/local/lib/python3.6/dist-packages (from prompt-toolkit<2.0.0,>=1.0.0->jupyter-console->jupyter) (0.1.7)\n",
            "Requirement already satisfied: webencodings in /usr/local/lib/python3.6/dist-packages (from html5lib!=1.0b1,!=1.0b2,!=1.0b3,!=1.0b4,!=1.0b5,!=1.0b6,!=1.0b7,!=1.0b8,>=0.99999999pre->bleach->nbconvert->jupyter) (0.5.1)\n",
            "Installing collected packages: widgetsnbextension, ipywidgets, qtconsole, jupyter-console, jupyter\n",
            "Successfully installed ipywidgets-7.4.1 jupyter-1.0.0 jupyter-console-5.2.0 qtconsole-4.4.1 widgetsnbextension-3.4.1\n",
            "---jupyter Installed---\n",
            "Requirement already satisfied: matplotlib in /usr/local/lib/python3.6/dist-packages (2.1.2)\n",
            "Requirement already satisfied: six>=1.10 in /usr/local/lib/python3.6/dist-packages (from matplotlib) (1.11.0)\n",
            "Requirement already satisfied: python-dateutil>=2.1 in /usr/local/lib/python3.6/dist-packages (from matplotlib) (2.5.3)\n",
            "Requirement already satisfied: cycler>=0.10 in /usr/local/lib/python3.6/dist-packages (from matplotlib) (0.10.0)\n",
            "Requirement already satisfied: numpy>=1.7.1 in /usr/local/lib/python3.6/dist-packages (from matplotlib) (1.14.5)\n",
            "Requirement already satisfied: pyparsing!=2.0.4,!=2.1.2,!=2.1.6,>=2.0.1 in /usr/local/lib/python3.6/dist-packages (from matplotlib) (2.2.0)\n",
            "Requirement already satisfied: pytz in /usr/local/lib/python3.6/dist-packages (from matplotlib) (2018.5)\n",
            "---matplotlib installed---\n"
          ],
          "name": "stdout"
        }
      ]
    },
    {
      "metadata": {
        "id": "x3cph4PnQ7hA",
        "colab_type": "code",
        "colab": {
          "base_uri": "https://localhost:8080/",
          "height": 153
        },
        "outputId": "2b04d54d-ddbe-4790-aa76-31407906d2c1"
      },
      "cell_type": "code",
      "source": [
        "#clone tf models repository\n",
        "!git clone https://github.com/tensorflow/models.git\n",
        "print('---tf model cloned---')"
      ],
      "execution_count": 8,
      "outputs": [
        {
          "output_type": "stream",
          "text": [
            "Cloning into 'models'...\n",
            "remote: Counting objects: 21780, done.\u001b[K\n",
            "remote: Compressing objects: 100% (20/20), done.\u001b[K\n",
            "remote: Total 21780 (delta 4), reused 9 (delta 4), pack-reused 21756\u001b[K\n",
            "Receiving objects: 100% (21780/21780), 558.66 MiB | 28.38 MiB/s, done.\n",
            "Resolving deltas: 100% (12824/12824), done.\n",
            "Checking out files: 100% (2725/2725), done.\n",
            "---tf model cloned---\n"
          ],
          "name": "stdout"
        }
      ]
    },
    {
      "metadata": {
        "id": "567zT3LbSH0-",
        "colab_type": "code",
        "colab": {
          "base_uri": "https://localhost:8080/",
          "height": 51
        },
        "outputId": "38108cc7-f1b3-49ef-bcd8-5f0d1798034b"
      },
      "cell_type": "code",
      "source": [
        "#Set environment untuk future operations. Harus dijalankan ulang kalau runtime direstart\n",
        "\n",
        "%cd /content/models/research\n",
        "!mkdir train eval\n",
        "%set_env PYTHONPATH=/content/models/research:/content/models/research/slim"
      ],
      "execution_count": 12,
      "outputs": [
        {
          "output_type": "stream",
          "text": [
            "/content/models/research\n",
            "env: PYTHONPATH=/content/models/research:/content/models/research/slim\n"
          ],
          "name": "stdout"
        }
      ]
    },
    {
      "metadata": {
        "id": "qHaM4LDoSHnE",
        "colab_type": "code",
        "colab": {
          "base_uri": "https://localhost:8080/",
          "height": 34
        },
        "outputId": "0e0fe3e4-2188-45be-ae9f-3fda1e3cb6e9"
      },
      "cell_type": "code",
      "source": [
        "#ga jelas ini kegunaan aslinya apa, yg pasti ini untuk protobuf compile apapun itu yg di object_Detection/protos/*.proto\n",
        "!protoc object_detection/protos/*.proto --python_out=.\n",
        "print('---protoc done---')"
      ],
      "execution_count": 13,
      "outputs": [
        {
          "output_type": "stream",
          "text": [
            "---protoc done---\n"
          ],
          "name": "stdout"
        }
      ]
    },
    {
      "metadata": {
        "id": "Tp6I5y0uSHbu",
        "colab_type": "code",
        "colab": {
          "base_uri": "https://localhost:8080/",
          "height": 119
        },
        "outputId": "958dfddb-dc5a-46fa-f19d-299c964047e8"
      },
      "cell_type": "code",
      "source": [
        "#test apakah semua sudah terinstall dng benar\n",
        "!python object_detection/builders/model_builder_test.py\n",
        "print('---test done---')"
      ],
      "execution_count": 14,
      "outputs": [
        {
          "output_type": "stream",
          "text": [
            "..................\n",
            "----------------------------------------------------------------------\n",
            "Ran 18 tests in 0.093s\n",
            "\n",
            "OK\n",
            "---test done---\n"
          ],
          "name": "stdout"
        }
      ]
    },
    {
      "metadata": {
        "id": "wsMgEVGJQ5v0",
        "colab_type": "code",
        "colab": {}
      },
      "cell_type": "code",
      "source": [
        "\n"
      ],
      "execution_count": 0,
      "outputs": []
    }
  ]
}